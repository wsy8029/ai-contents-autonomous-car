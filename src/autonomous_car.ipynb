{
 "cells": [
  {
   "cell_type": "code",
   "execution_count": 1,
   "metadata": {},
   "outputs": [
    {
     "name": "stdout",
     "output_type": "stream",
     "text": [
      "Running PyMODI (v0.9.2)\n"
     ]
    }
   ],
   "source": [
    "import cv2\n",
    "import tensorflow.keras\n",
    "from PIL import Image, ImageOps\n",
    "import numpy as np\n",
    "import modi\n",
    "from IPython.display import clear_output\n",
    "import time\n",
    "from ai_camera import AICamera"
   ]
  },
  {
   "cell_type": "code",
   "execution_count": 2,
   "metadata": {},
   "outputs": [],
   "source": [
    "class AutonomousCar(object):\n",
    "\n",
    "    def __init__(self):\n",
    "        self.classes = [\n",
    "            \"Green\",\n",
    "            \"Red\"\n",
    "        ]\n",
    "\n",
    "        # Initialize VideoCapture object\n",
    "#         self.camera = cv2.VideoCapture(0)\n",
    "#         self.camera.set(3, 224)\n",
    "#         self.camera.set(4, 224)\n",
    "#         self.camera.set(5, 60)\n",
    "        self.cam = AICamera()\n",
    "        self.cam.set_window()\n",
    "\n",
    "        # Disable scientific notation for clarity\n",
    "        np.set_printoptions(suppress=True)\n",
    "\n",
    "        # Load the model\n",
    "        self.model = tensorflow.keras.models.load_model('/home/pi/workspace/ai-contents-autonomous-car/model/keras_model.h5')\n",
    "\n",
    "        # Create the array of the right shape to feed into the keras model\n",
    "        # The 'length' or number of images you can put into the array is\n",
    "        # determined by the first position in the shape tuple, in this case 1.\n",
    "        self.data = np.ndarray(shape=(1, 224, 224, 3), dtype=np.float32)\n",
    "\n",
    "\n",
    "    def start_car(self,mot, btn):\n",
    "        \n",
    "\n",
    "\n",
    "        while self.cam.is_opened():\n",
    "#             _, frame = self.camera.read()\n",
    "            frame = self.cam.read()\n",
    "            # cv2.imshow(\"frame\", frame)\n",
    "            self.cam.show(frame)\n",
    "\n",
    "            # Replace this with the path to your image\n",
    "            # image = Image.open('/Users/peter/Repos/ai-curriculum-autonomous-car/car_hun/21.jpg')\n",
    "            image = Image.fromarray(frame)\n",
    "\n",
    "            # resize the image to a 224x224 with the same strategy as in TM2:\n",
    "            # resizing the image to be at least 224x224 and then cropping from the center\n",
    "            size = (224, 224)\n",
    "            image = ImageOps.fit(image, size, Image.ANTIALIAS)\n",
    "\n",
    "            # turn the image into a numpy array\n",
    "            image_array = np.asarray(image)\n",
    "\n",
    "            # display the resized image\n",
    "            # image.show()\n",
    "\n",
    "            # Normalize the image\n",
    "            normalized_image_array = (image_array.astype(np.float32) / 127.0) - 1\n",
    "\n",
    "            # Load the image into the array\n",
    "            self.data[0] = normalized_image_array\n",
    "\n",
    "            # run the inference\n",
    "            # prediction = self.model.predict(self.data)\n",
    "            pred = self.model.predict_classes(self.data)\n",
    "            # print(prediction)\n",
    "            pred_class = self.classes[pred[0]]\n",
    "            print(\"Predicted Class : \", pred_class)\n",
    "            clear_output(wait=True)\n",
    "\n",
    "            # mot.speed = 30,30\n",
    "\n",
    "            if pred_class == 'Green':\n",
    "                mot.speed = -40, 40\n",
    "            elif pred_class == 'Red':\n",
    "                mot.speed = 0, 0\n",
    "\n",
    "            if btn.clicked:\n",
    "                mot.speed = 0,0\n",
    "                # self.camera.release()\n",
    "                cv2.destroyAllWindows()\n",
    "                break\n",
    "\n",
    "            if cv2.waitKey(1) & 0xFF == ord('q'):\n",
    "                mot.speed = 0,0\n",
    "                self.camera.release()\n",
    "                cv2.destroyAllWindows()\n",
    "                break\n"
   ]
  },
  {
   "cell_type": "code",
   "execution_count": null,
   "metadata": {},
   "outputs": [
    {
     "name": "stdout",
     "output_type": "stream",
     "text": [
      "Predicted Class :  Green\n"
     ]
    }
   ],
   "source": [
    "car = AutonomousCar()\n",
    "bundle = modi.MODI()\n",
    "mot = bundle.motors[0]\n",
    "btn = bundle.buttons[0]\n",
    "\n",
    "# Indicator for ready\n",
    "mot.speed = 60,-60\n",
    "time.sleep(0.3)\n",
    "mot.speed = 0,0\n",
    "\n",
    "# car.start_car(mot, btn)\n",
    "\n",
    "while True:\n",
    "    time.sleep(0.01)\n",
    "    if btn.double_clicked:\n",
    "        print(\"클릭\")\n",
    "        time.sleep(0.01)\n",
    "        car.start_car(mot,btn)"
   ]
  },
  {
   "cell_type": "code",
   "execution_count": null,
   "metadata": {},
   "outputs": [],
   "source": []
  }
 ],
 "metadata": {
  "kernelspec": {
   "display_name": "Python 3",
   "language": "python",
   "name": "python3"
  },
  "language_info": {
   "codemirror_mode": {
    "name": "ipython",
    "version": 3
   },
   "file_extension": ".py",
   "mimetype": "text/x-python",
   "name": "python",
   "nbconvert_exporter": "python",
   "pygments_lexer": "ipython3",
   "version": "3.7.3"
  }
 },
 "nbformat": 4,
 "nbformat_minor": 4
}
