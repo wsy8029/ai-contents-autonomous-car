{
 "cells": [
  {
   "cell_type": "code",
   "execution_count": 1,
   "metadata": {},
   "outputs": [
    {
     "name": "stdout",
     "output_type": "stream",
     "text": [
      "Running PyMODI (v0.9.2)\n"
     ]
    }
   ],
   "source": [
    "from ai_camera import AICamera\n",
    "import os\n",
    "import modi\n",
    "import time"
   ]
  },
  {
   "cell_type": "code",
   "execution_count": 2,
   "metadata": {},
   "outputs": [],
   "source": [
    "# gathering image data to each labeled folder\n",
    "def gathering(path,cam,btn):\n",
    "    # check latest file index\n",
    "    try: # if dir is not empty, file idx continue\n",
    "        flist = os.listdir(path)\n",
    "        paths = [os.path.join(path, basename) for basename in flist]\n",
    "        latest = max(paths, key=os.path.getctime) # latest file\n",
    "        latest = os.path.basename(latest)\n",
    "        latest = int(os.path.splitext(latest)[0]) # latest file idx num\n",
    "        idx = latest +1\n",
    "        \n",
    "    except: # if dir is empty, first file idx is 1\n",
    "        idx = 1\n",
    "    print('확인')\n",
    "    while cam.is_opened():\n",
    "        frame = cam.read()\n",
    "        cam.show(frame) # streaming camera\n",
    "        \n",
    "#         c = cv2.waitKey(1)\n",
    "#         if c == ord('q'):\n",
    "#             camera.release()\n",
    "#             cv2.destroyAllWindows()\n",
    "#             break\n",
    "        \n",
    "#         elif c == ord('c'):\n",
    "            \n",
    "#             imgpath = path + '/' + str(idx) + '.jpg'\n",
    "#             print(imgpath)\n",
    "#             cv2.imwrite(imgpath,frame)\n",
    "#             print('image saved')\n",
    "#             idx += 1\n",
    "        if btn.clicked:\n",
    "            imgpath = path + '/' + str(idx) + '.jpg'\n",
    "            print(imgpath)\n",
    "            cam.imwrite(imgpath,frame)\n",
    "            print('image saved')\n",
    "            idx += 1\n",
    "            time.sleep(0.1)\n",
    "        time.sleep(0.1)\n",
    "            \n",
    "\n",
    "        \n",
    "#check and make directory labeled\n",
    "def check_dir(path,label):\n",
    "    path = os.path.join(path,label)\n",
    "    print(\"Image Data Path : \" + path)\n",
    "    if os.path.isdir(path):\n",
    "        pass\n",
    "    else:\n",
    "        os.mkdir(path)\n",
    "    return path"
   ]
  },
  {
   "cell_type": "code",
   "execution_count": null,
   "metadata": {},
   "outputs": [
    {
     "data": {
      "image/jpeg": "[encoded data removed]",
      "text/plain": [
       "<IPython.core.display.Image object>"
      ]
     },
     "metadata": {},
     "output_type": "display_data"
    },
    {
     "data": {
      "text/html": [
       "121 FPS"
      ],
      "text/plain": [
       "<IPython.core.display.HTML object>"
      ]
     },
     "metadata": {},
     "output_type": "display_data"
    },
    {
     "name": "stdout",
     "output_type": "stream",
     "text": [
      "Run Can Task.\n",
      "Start initializing connected MODI modules\n",
      "Your MODI module(s) is not up-to-date.\n",
      "You can update your MODI modules by calling 'update_module_firmware()'\n",
      "Motor (1594) has been connected!\n",
      "Button (1431) has been connected!\n",
      "type label name : Red\n",
      "Image Data Path : ../data/Red\n",
      "확인\n",
      "../data/Red/1.jpg\n",
      "image saved\n",
      "../data/Red/2.jpg\n",
      "image saved\n",
      "../data/Red/3.jpg\n",
      "image saved\n",
      "../data/Red/4.jpg\n",
      "image saved\n",
      "../data/Red/5.jpg\n",
      "image saved\n",
      "../data/Red/6.jpg\n",
      "image saved\n",
      "../data/Red/7.jpg\n",
      "image saved\n",
      "../data/Red/8.jpg\n",
      "image saved\n",
      "../data/Red/9.jpg\n",
      "image saved\n",
      "../data/Red/10.jpg\n",
      "image saved\n",
      "../data/Red/11.jpg\n",
      "image saved\n",
      "../data/Red/12.jpg\n",
      "image saved\n",
      "../data/Red/13.jpg\n",
      "image saved\n",
      "../data/Red/14.jpg\n",
      "image saved\n"
     ]
    }
   ],
   "source": [
    "cam = AICamera()\n",
    "cam.set_window()\n",
    "bundle = modi.MODI()\n",
    "btn = bundle.buttons[0]\n",
    "while True:\n",
    "    path = '../data/'\n",
    "    label = input('type label name : ')\n",
    "    path = check_dir(path,label)\n",
    "    gathering(path,cam,btn)"
   ]
  },
  {
   "cell_type": "code",
   "execution_count": null,
   "metadata": {},
   "outputs": [],
   "source": []
  },
  {
   "cell_type": "code",
   "execution_count": null,
   "metadata": {},
   "outputs": [],
   "source": []
  }
 ],
 "metadata": {
  "kernelspec": {
   "display_name": "Python 3",
   "language": "python",
   "name": "python3"
  },
  "language_info": {
   "codemirror_mode": {
    "name": "ipython",
    "version": 3
   },
   "file_extension": ".py",
   "mimetype": "text/x-python",
   "name": "python",
   "nbconvert_exporter": "python",
   "pygments_lexer": "ipython3",
   "version": "3.7.3"
  }
 },
 "nbformat": 4,
 "nbformat_minor": 4
}
